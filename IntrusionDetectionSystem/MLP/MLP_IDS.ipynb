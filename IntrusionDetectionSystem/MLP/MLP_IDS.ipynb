{
 "cells": [
  {
   "cell_type": "markdown",
   "id": "62dd221f",
   "metadata": {},
   "source": [
    "Here the necessary libraries are imported for the model."
   ]
  },
  {
   "cell_type": "code",
   "execution_count": 10,
   "id": "c042139e",
   "metadata": {},
   "outputs": [],
   "source": [
    "import pandas as pd\n",
    "import numpy as np\n",
    "import torch\n",
    "import torch.nn as nn\n",
    "from torch.utils.data import Dataset, DataLoader\n",
    "from sklearn.preprocessing import LabelEncoder, StandardScaler\n",
    "from sklearn.model_selection import train_test_split\n",
    "from sklearn.metrics import accuracy_score"
   ]
  },
  {
   "cell_type": "markdown",
   "id": "0a9a9fd3",
   "metadata": {},
   "source": [
    "The KDDTrain and KDDTest samples are downloaded."
   ]
  },
  {
   "cell_type": "code",
   "execution_count": 3,
   "id": "17f37175",
   "metadata": {},
   "outputs": [
    {
     "name": "stdout",
     "output_type": "stream",
     "text": [
      "--2025-06-10 16:53:44--  https://raw.githubusercontent.com/defcom17/NSL_KDD/master/KDDTrain+.txt\n",
      "Resolving raw.githubusercontent.com (raw.githubusercontent.com)... 185.199.109.133, 185.199.110.133, 185.199.108.133, ...\n",
      "Connecting to raw.githubusercontent.com (raw.githubusercontent.com)|185.199.109.133|:443... connected.\n",
      "HTTP request sent, awaiting response... 200 OK\n",
      "Length: 19109424 (18M) [text/plain]\n",
      "Saving to: ‘KDDTrain+.txt’\n",
      "\n",
      "KDDTrain+.txt       100%[===================>]  18.22M  37.4MB/s    in 0.5s    \n",
      "\n",
      "2025-06-10 16:53:46 (37.4 MB/s) - ‘KDDTrain+.txt’ saved [19109424/19109424]\n",
      "\n"
     ]
    }
   ],
   "source": [
    "!wget https://raw.githubusercontent.com/defcom17/NSL_KDD/master/KDDTrain+.txt"
   ]
  },
  {
   "cell_type": "code",
   "execution_count": 4,
   "id": "7b1bc7c6",
   "metadata": {},
   "outputs": [
    {
     "name": "stdout",
     "output_type": "stream",
     "text": [
      "--2025-06-10 16:53:48--  https://raw.githubusercontent.com/defcom17/NSL_KDD/master/KDDTest+.txt\n",
      "Resolving raw.githubusercontent.com (raw.githubusercontent.com)... 185.199.110.133, 185.199.109.133, 185.199.108.133, ...\n",
      "Connecting to raw.githubusercontent.com (raw.githubusercontent.com)|185.199.110.133|:443... connected.\n",
      "HTTP request sent, awaiting response... 200 OK\n",
      "Length: 3441513 (3.3M) [text/plain]\n",
      "Saving to: ‘KDDTest+.txt’\n",
      "\n",
      "KDDTest+.txt        100%[===================>]   3.28M  13.1MB/s    in 0.3s    \n",
      "\n",
      "2025-06-10 16:53:49 (13.1 MB/s) - ‘KDDTest+.txt’ saved [3441513/3441513]\n",
      "\n"
     ]
    }
   ],
   "source": [
    "!wget https://raw.githubusercontent.com/defcom17/NSL_KDD/master/KDDTest+.txt"
   ]
  },
  {
   "cell_type": "markdown",
   "id": "ebe36e7d",
   "metadata": {},
   "source": [
    "Column names for the features, label and difficulty from the KDD Dataset are enumerated, and the data loaded from the CSV"
   ]
  },
  {
   "cell_type": "code",
   "execution_count": 11,
   "id": "ead850cc",
   "metadata": {},
   "outputs": [],
   "source": [
    "cols = [f'feature_{i}' for i in range(41)] + ['label', 'difficulty']\n",
    "df = pd.read_csv(\"KDDTrain+.txt\", header=None, names=cols)"
   ]
  },
  {
   "cell_type": "markdown",
   "id": "f06cc34d",
   "metadata": {},
   "source": [
    "The data is encoded, labels specified (there are numberous attack labels in the KDD Dataset, they are all classified under one label), and the features normalized. The data is then split into train and evaluation splits."
   ]
  },
  {
   "cell_type": "code",
   "execution_count": 12,
   "id": "b62a6137",
   "metadata": {},
   "outputs": [],
   "source": [
    "# Encode categorical\n",
    "for col in ['feature_1', 'feature_2', 'feature_3']:\n",
    "    df[col] = LabelEncoder().fit_transform(df[col])\n",
    "\n",
    "# Binary label: 0 = normal, 1 = attack\n",
    "df['label'] = df['label'].apply(lambda x: 0 if x == 'normal' else 1)\n",
    "\n",
    "# Normalize features\n",
    "X = df.iloc[:, :-2].values\n",
    "y = df['label'].values\n",
    "X = StandardScaler().fit_transform(X)\n",
    "\n",
    "# Split\n",
    "X_train, X_val, y_train, y_val = train_test_split(X, y, test_size=0.2, random_state=42)"
   ]
  },
  {
   "cell_type": "markdown",
   "id": "c4e9b82e",
   "metadata": {},
   "source": [
    "This is where the Dataset is preprocessed before feeding to the model, by creating tensors, and after that the IDS model architecture is defined, with 3 Linear layers and 2 Rectified Linear Unit (ReLU) layers in-between each."
   ]
  },
  {
   "cell_type": "code",
   "execution_count": 13,
   "id": "74df13a2",
   "metadata": {},
   "outputs": [],
   "source": [
    "class IntrusionDataset(Dataset):\n",
    "    def __init__(self, X, y):\n",
    "        self.X = torch.tensor(X, dtype=torch.float32)\n",
    "        self.y = torch.tensor(y, dtype=torch.float32)\n",
    "    def __len__(self):\n",
    "        return len(self.y)\n",
    "    def __getitem__(self, idx):\n",
    "        return self.X[idx], self.y[idx]\n",
    "\n",
    "train_loader = DataLoader(IntrusionDataset(X_train, y_train), batch_size=64, shuffle=True)\n",
    "val_loader = DataLoader(IntrusionDataset(X_val, y_val), batch_size=64)"
   ]
  },
  {
   "cell_type": "code",
   "execution_count": 14,
   "id": "42b4d9d4",
   "metadata": {},
   "outputs": [],
   "source": [
    "class SimpleIDSModel(nn.Module):\n",
    "    def __init__(self, input_size):\n",
    "        super(SimpleIDSModel, self).__init__()\n",
    "        self.net = nn.Sequential(\n",
    "            nn.Linear(input_size, 64),\n",
    "            nn.ReLU(),\n",
    "            nn.Linear(64, 32),\n",
    "            nn.ReLU(),\n",
    "            nn.Linear(32, 1)  # No sigmoid\n",
    "        )\n",
    "    def forward(self, x):\n",
    "        return self.net(x)"
   ]
  },
  {
   "cell_type": "markdown",
   "id": "3d0182ab",
   "metadata": {},
   "source": [
    "Model is trained with the various hyperparameters such as the criterion (loss function) and the optimizer. Epochs are the number of times the model goes through the training loop. Decreasing loss for each epoch means the model is learning, and more epochs may lead to better performance at the cost of training resources."
   ]
  },
  {
   "cell_type": "code",
   "execution_count": 15,
   "id": "c7001dd0",
   "metadata": {},
   "outputs": [
    {
     "name": "stdout",
     "output_type": "stream",
     "text": [
      "\n",
      "Epoch 1\n",
      "  Logits: [-0.09146228 -0.17194918 -0.16620973 -0.1687215  -0.10673405]\n",
      "  Probabilities: [0.47715032 0.4571183  0.45854297 0.4579194  0.47334176]\n",
      "  Targets: [1. 0. 0. 0. 1.]\n",
      "Epoch 1 Loss: 351.0091\n",
      "\n",
      "Epoch 2\n",
      "  Logits: [-1.992386   6.0422745 -4.584759  -3.7289672 -4.790593 ]\n",
      "  Probabilities: [0.12000466 0.99762946 0.01010309 0.02345431 0.00823908]\n",
      "  Targets: [1. 1. 0. 0. 0.]\n",
      "Epoch 2 Loss: 127.9977\n",
      "\n",
      "Epoch 3\n",
      "  Logits: [ 6.911761   -0.96739316  4.5789156   4.548613    3.0381422 ]\n",
      "  Probabilities: [0.999005   0.2754004  0.98983824 0.98952895 0.95426786]\n",
      "  Targets: [1. 0. 1. 1. 1.]\n",
      "Epoch 3 Loss: 95.3207\n",
      "\n",
      "Epoch 4\n",
      "  Logits: [-5.6969457 -4.7877383 -5.778388  -5.5837092  7.5258374]\n",
      "  Probabilities: [0.00334497 0.00826244 0.00308416 0.00374452 0.99946135]\n",
      "  Targets: [0. 0. 0. 0. 1.]\n",
      "Epoch 4 Loss: 72.6620\n",
      "\n",
      "Epoch 5\n",
      "  Logits: [-6.0059843 13.65903   -5.0342255 -6.4327526 10.449551 ]\n",
      "  Probabilities: [0.00245791 0.9999988  0.00646912 0.00160544 0.99997103]\n",
      "  Targets: [0. 1. 0. 0. 1.]\n",
      "Epoch 5 Loss: 59.6291\n",
      "\n",
      "Epoch 6\n",
      "  Logits: [ -5.6283956 -10.749986    8.462506   11.078273   -7.4283724]\n",
      "  Probabilities: [3.5814645e-03 2.1445256e-05 9.9978882e-01 9.9998450e-01 5.9380097e-04]\n",
      "  Targets: [0. 0. 1. 1. 0.]\n",
      "Epoch 6 Loss: 52.0563\n",
      "\n",
      "Epoch 7\n",
      "  Logits: [-6.1015778 11.520893  11.554005  10.352732  -6.8339925]\n",
      "  Probabilities: [0.00223433 0.9999901  0.99999034 0.99996805 0.00107539]\n",
      "  Targets: [0. 1. 1. 1. 0.]\n",
      "Epoch 7 Loss: 47.3041\n",
      "\n",
      "Epoch 8\n",
      "  Logits: [ 8.413296  -9.12116   -5.695891  -4.9592686 -9.389942 ]\n",
      "  Probabilities: [9.9977821e-01 1.0931588e-04 3.3484926e-03 6.9691497e-03 8.3553306e-05]\n",
      "  Targets: [1. 0. 0. 0. 0.]\n",
      "Epoch 8 Loss: 43.9304\n",
      "\n",
      "Epoch 9\n",
      "  Logits: [ 7.702268  -9.752635  -9.433811   8.834523  -7.9970593]\n",
      "  Probabilities: [9.9954838e-01 5.8137877e-05 7.9967424e-05 9.9985433e-01 3.3633737e-04]\n",
      "  Targets: [1. 0. 0. 1. 0.]\n",
      "Epoch 9 Loss: 41.0687\n",
      "\n",
      "Epoch 10\n",
      "  Logits: [ 9.179084 10.527233 21.593142  8.310046  8.564558]\n",
      "  Probabilities: [0.9998969 0.9999732 1.        0.999754  0.9998093]\n",
      "  Targets: [1. 1. 1. 1. 1.]\n",
      "Epoch 10 Loss: 38.8511\n",
      "\n",
      "Epoch 11\n",
      "  Logits: [ -7.450081 -12.375889  12.016492   9.549978  13.666914]\n",
      "  Probabilities: [5.8105681e-04 4.2190818e-06 9.9999392e-01 9.9992883e-01 9.9999881e-01]\n",
      "  Targets: [0. 0. 1. 1. 1.]\n",
      "Epoch 11 Loss: 37.4427\n",
      "\n",
      "Epoch 12\n",
      "  Logits: [  0.7380047  -9.400427   10.752464  -11.815881   -6.3663497]\n",
      "  Probabilities: [6.7655933e-01 8.2681923e-05 9.9997866e-01 7.3862666e-06 1.7154726e-03]\n",
      "  Targets: [1. 0. 1. 0. 0.]\n",
      "Epoch 12 Loss: 35.7199\n",
      "\n",
      "Epoch 13\n",
      "  Logits: [-16.691273   8.068301  -8.301234  13.128547  -4.831968]\n",
      "  Probabilities: [5.6373153e-08 9.9968684e-01 2.4814869e-04 9.9999797e-01 7.9077892e-03]\n",
      "  Targets: [0. 1. 0. 1. 0.]\n",
      "Epoch 13 Loss: 34.7277\n",
      "\n",
      "Epoch 14\n",
      "  Logits: [ -7.8866506  -7.002042  -14.27597     9.264672   14.00633  ]\n",
      "  Probabilities: [3.7558482e-04 9.0919464e-04 6.3099299e-07 9.9990535e-01 9.9999917e-01]\n",
      "  Targets: [0. 0. 0. 1. 1.]\n",
      "Epoch 14 Loss: 33.5672\n",
      "\n",
      "Epoch 15\n",
      "  Logits: [  6.335084   -9.381743  -10.329523   -9.518926   -5.3321953]\n",
      "  Probabilities: [9.9823016e-01 8.4241088e-05 3.2653592e-05 7.3443138e-05 4.8101977e-03]\n",
      "  Targets: [1. 0. 0. 0. 0.]\n",
      "Epoch 15 Loss: 32.6898\n",
      "\n",
      "Epoch 16\n",
      "  Logits: [-9.922427 12.140923  9.988167  9.508379 -9.399144]\n",
      "  Probabilities: [4.9059523e-05 9.9999464e-01 9.9995410e-01 9.9992573e-01 8.2788043e-05]\n",
      "  Targets: [0. 1. 1. 1. 0.]\n",
      "Epoch 16 Loss: 31.8510\n",
      "\n",
      "Epoch 17\n",
      "  Logits: [ 12.138786   -8.219288   10.727863  -12.77737     7.9523435]\n",
      "  Probabilities: [9.9999464e-01 2.6933430e-04 9.9997807e-01 2.8239519e-06 9.9964833e-01]\n",
      "  Targets: [1. 0. 1. 0. 1.]\n",
      "Epoch 17 Loss: 31.2835\n",
      "\n",
      "Epoch 18\n",
      "  Logits: [ 14.749927 -12.818765  12.938683 -11.881991  -7.97953 ]\n",
      "  Probabilities: [9.9999964e-01 2.7094434e-06 9.9999762e-01 6.9137504e-06 3.4228317e-04]\n",
      "  Targets: [1. 0. 1. 0. 0.]\n",
      "Epoch 18 Loss: 30.6485\n",
      "\n",
      "Epoch 19\n",
      "  Logits: [-13.378277 -15.057227 -12.840031  -9.703639  12.201403]\n",
      "  Probabilities: [1.5484156e-06 2.8888780e-07 2.6524328e-06 6.1057159e-05 9.9999499e-01]\n",
      "  Targets: [0. 0. 0. 0. 1.]\n",
      "Epoch 19 Loss: 30.1179\n",
      "\n",
      "Epoch 20\n",
      "  Logits: [ -9.442284  -10.361995    4.589671   -6.6981816  15.36125  ]\n",
      "  Probabilities: [7.9292826e-05 3.1610336e-05 9.8994595e-01 1.2316334e-03 9.9999976e-01]\n",
      "  Targets: [0. 0. 1. 0. 1.]\n",
      "Epoch 20 Loss: 29.2303\n"
     ]
    }
   ],
   "source": [
    "model = SimpleIDSModel(X.shape[1])\n",
    "criterion = nn.BCEWithLogitsLoss()\n",
    "optimizer = torch.optim.Adam(model.parameters(), lr=0.0001)\n",
    "\n",
    "num_epochs = 20\n",
    "\n",
    "for epoch in range(num_epochs):\n",
    "    model.train()\n",
    "    epoch_loss = 0.0\n",
    "    \n",
    "    for i, (X_batch, y_batch) in enumerate(train_loader):\n",
    "        optimizer.zero_grad()\n",
    "        \n",
    "        # Forward pass (logits only)\n",
    "        logits = model(X_batch).view(-1)\n",
    "        loss = criterion(logits, y_batch)\n",
    "        \n",
    "        # Backward pass\n",
    "        loss.backward()\n",
    "        torch.nn.utils.clip_grad_norm_(model.parameters(), max_norm=1.0)  # optional\n",
    "        optimizer.step()\n",
    "        \n",
    "        epoch_loss += loss.item()\n",
    "        \n",
    "        # Output monitoring for first batch in each epoch\n",
    "        if i == 0:\n",
    "            with torch.no_grad():\n",
    "                probs = torch.sigmoid(logits)\n",
    "                print(f\"\\nEpoch {epoch+1}\")\n",
    "                print(\"  Logits:\", logits[:5].numpy())\n",
    "                print(\"  Probabilities:\", probs[:5].numpy())\n",
    "                print(\"  Targets:\", y_batch[:5].numpy())\n",
    "    \n",
    "    print(f\"Epoch {epoch+1} Loss: {epoch_loss:.4f}\")"
   ]
  },
  {
   "cell_type": "markdown",
   "id": "1d0d446e",
   "metadata": {},
   "source": [
    "Here the model is evaluated, and scores are calculated. The model shows a 99$ accuracy for the training data. "
   ]
  },
  {
   "cell_type": "code",
   "execution_count": 16,
   "id": "280943c7",
   "metadata": {},
   "outputs": [
    {
     "name": "stdout",
     "output_type": "stream",
     "text": [
      "              precision    recall  f1-score   support\n",
      "\n",
      "           0       0.99      0.99      0.99     13422\n",
      "           1       0.99      0.99      0.99     11773\n",
      "\n",
      "    accuracy                           0.99     25195\n",
      "   macro avg       0.99      0.99      0.99     25195\n",
      "weighted avg       0.99      0.99      0.99     25195\n",
      "\n"
     ]
    }
   ],
   "source": [
    "model.eval()\n",
    "y_preds, y_trues = [], []\n",
    "\n",
    "with torch.no_grad():\n",
    "    for X_batch, y_batch in val_loader:\n",
    "        logits = model(X_batch).view(-1)\n",
    "        probs = torch.sigmoid(logits)\n",
    "        preds = (probs > 0.5).int()\n",
    "        \n",
    "        y_preds.extend(preds.numpy())\n",
    "        y_trues.extend(y_batch.int().numpy())\n",
    "\n",
    "from sklearn.metrics import classification_report\n",
    "print(classification_report(y_trues, y_preds))"
   ]
  },
  {
   "cell_type": "markdown",
   "id": "91f342e1",
   "metadata": {},
   "source": [
    "Confusion matrix showing a pretty low number of false positives and negatives."
   ]
  },
  {
   "cell_type": "code",
   "execution_count": 18,
   "id": "e8836811",
   "metadata": {},
   "outputs": [
    {
     "data": {
      "text/plain": [
       "<sklearn.metrics._plot.confusion_matrix.ConfusionMatrixDisplay at 0x7ffec0979150>"
      ]
     },
     "execution_count": 18,
     "metadata": {},
     "output_type": "execute_result"
    },
    {
     "data": {
      "image/png": "[encoded data removed]",
      "text/plain": [
       "<Figure size 640x480 with 2 Axes>"
      ]
     },
     "metadata": {},
     "output_type": "display_data"
    }
   ],
   "source": [
    "from sklearn.metrics import confusion_matrix, ConfusionMatrixDisplay\n",
    "cm = confusion_matrix(y_trues, y_preds)\n",
    "ConfusionMatrixDisplay(cm, display_labels=['Normal', 'Attack']).plot()"
   ]
  },
  {
   "cell_type": "markdown",
   "id": "9e647665",
   "metadata": {},
   "source": [
    "The model is saved for deployment."
   ]
  },
  {
   "cell_type": "code",
   "execution_count": 12,
   "id": "8d14fb61",
   "metadata": {},
   "outputs": [],
   "source": [
    "torch.save(model.state_dict(), \"intrusion_detection_model.pth\")"
   ]
  },
  {
   "cell_type": "markdown",
   "id": "e56e0aba",
   "metadata": {},
   "source": [
    "The model appears to run great on known data. However, the true evaluation for the model comes from its performance on unseen data, for which we use the KDDTest part of the dataset."
   ]
  },
  {
   "cell_type": "code",
   "execution_count": 19,
   "id": "6b8f0c38",
   "metadata": {},
   "outputs": [
    {
     "name": "stdout",
     "output_type": "stream",
     "text": [
      "              precision    recall  f1-score   support\n",
      "\n",
      "           0       0.68      0.97      0.80      9711\n",
      "           1       0.97      0.65      0.78     12833\n",
      "\n",
      "    accuracy                           0.79     22544\n",
      "   macro avg       0.82      0.81      0.79     22544\n",
      "weighted avg       0.84      0.79      0.79     22544\n",
      "\n"
     ]
    },
    {
     "data": {
      "text/plain": [
       "<sklearn.metrics._plot.confusion_matrix.ConfusionMatrixDisplay at 0x7ffeaeab1210>"
      ]
     },
     "execution_count": 19,
     "metadata": {},
     "output_type": "execute_result"
    },
    {
     "data": {
      "image/png": "[encoded data removed]",
      "text/plain": [
       "<Figure size 640x480 with 2 Axes>"
      ]
     },
     "metadata": {},
     "output_type": "display_data"
    }
   ],
   "source": [
    "cols = [f'feature_{i}' for i in range(41)] + ['label', 'difficulty']\n",
    "df_test = pd.read_csv(\"KDDTest+.txt\", header=None, names=cols)\n",
    "\n",
    "# Encode categorical\n",
    "for col in ['feature_1', 'feature_2', 'feature_3']:\n",
    "    df_test[col] = LabelEncoder().fit_transform(df_test[col])\n",
    "\n",
    "# Binary classification: normal = 0, attack = 1\n",
    "df_test['label'] = df_test['label'].apply(lambda x: 0 if x == 'normal' else 1)\n",
    "\n",
    "# Separate features and labels\n",
    "X_test_raw = df_test.iloc[:, :-2].values\n",
    "y_test = df_test['label'].values\n",
    "\n",
    "# Normalize using same scaler as training (refit StandardScaler if not saved)\n",
    "scaler = StandardScaler()\n",
    "X_test = scaler.fit_transform(X_test_raw)\n",
    "\n",
    "# Convert to PyTorch dataset\n",
    "class IntrusionDataset(Dataset):\n",
    "    def __init__(self, X, y):\n",
    "        self.X = torch.tensor(X, dtype=torch.float32)\n",
    "        self.y = torch.tensor(y, dtype=torch.float32)\n",
    "    def __len__(self):\n",
    "        return len(self.y)\n",
    "    def __getitem__(self, idx):\n",
    "        return self.X[idx], self.y[idx]\n",
    "\n",
    "test_dataset = IntrusionDataset(X_test, y_test)\n",
    "test_loader = DataLoader(test_dataset, batch_size=64)\n",
    "\n",
    "# -------------------------------\n",
    "# 3. Load trained model\n",
    "# -------------------------------\n",
    "model = SimpleIDSModel(X_test.shape[1])\n",
    "model.load_state_dict(torch.load(\"intrusion_detection_model.pth\"))\n",
    "model.eval()\n",
    "\n",
    "# -------------------------------\n",
    "# 4. Evaluate on test set\n",
    "# -------------------------------\n",
    "y_preds, y_trues = [], []\n",
    "\n",
    "with torch.no_grad():\n",
    "    for X_batch, y_batch in test_loader:\n",
    "        logits = model(X_batch).view(-1)\n",
    "        probs = torch.sigmoid(logits)\n",
    "        preds = (probs > 0.5).int()\n",
    "\n",
    "        y_preds.extend(preds.numpy())\n",
    "        y_trues.extend(y_batch.int().numpy())\n",
    "\n",
    "# -------------------------------\n",
    "# 5. Print Evaluation Metrics\n",
    "# -------------------------------\n",
    "print(classification_report(y_trues, y_preds))\n",
    "\n",
    "# Optional: Confusion Matrix\n",
    "cm = confusion_matrix(y_trues, y_preds)\n",
    "ConfusionMatrixDisplay(cm, display_labels=[\"Normal\", \"Attack\"]).plot()"
   ]
  },
  {
   "cell_type": "markdown",
   "id": "2efa6a73",
   "metadata": {},
   "source": [
    "As we can see here, the model shows a 79% F1-score on unseen data, which is not bad, but still far from the 99% we saw for known data. This points to the possibility of the model overfitting on the training data, which means it's learning patterns are too specific to the dataset. "
   ]
  }
 ],
 "metadata": {
  "kernelspec": {
   "display_name": "Python 3 (ipykernel)",
   "language": "python",
   "name": "python3"
  },
  "language_info": {
   "codemirror_mode": {
    "name": "ipython",
    "version": 3
   },
   "file_extension": ".py",
   "mimetype": "text/x-python",
   "name": "python",
   "nbconvert_exporter": "python",
   "pygments_lexer": "ipython3",
   "version": "3.11.8"
  }
 },
 "nbformat": 4,
 "nbformat_minor": 5
}
